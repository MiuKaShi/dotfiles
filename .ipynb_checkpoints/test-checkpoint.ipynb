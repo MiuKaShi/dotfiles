{
 "cells": [
  {
   "cell_type": "markdown",
   "metadata": {},
   "source": [
    "# 在一切开始之前"
   ]
  },
  {
   "cell_type": "code",
   "execution_count": 1,
   "metadata": {},
   "outputs": [
    {
     "name": "stdout",
     "output_type": "stream",
     "text": [
      "Threads.nthreads() = 8\n",
      "Julia Version 1.7.2\n",
      "Commit bf53498635 (2022-02-06 15:21 UTC)\n",
      "Platform Info:\n",
      "  OS: Linux (x86_64-pc-linux-gnu)\n",
      "  CPU: Intel(R) Core(TM) i7-9750H CPU @ 2.60GHz\n",
      "  WORD_SIZE: 64\n",
      "  LIBM: libopenlibm\n",
      "  LLVM: libLLVM-12.0.1 (ORCJIT, skylake)\n",
      "Environment:\n",
      "  JULIA_NUM_THREADS = 8\n"
     ]
    }
   ],
   "source": [
    "using BenchmarkTools\n",
    "@show Threads.nthreads()\n",
    "versioninfo()"
   ]
  },
  {
   "cell_type": "markdown",
   "metadata": {},
   "source": [
    "## GPU 计算"
   ]
  },
  {
   "cell_type": "code",
   "execution_count": 3,
   "metadata": {},
   "outputs": [],
   "source": [
    "using CUDA"
   ]
  },
  {
   "cell_type": "markdown",
   "metadata": {},
   "source": [
    "## 参数设置"
   ]
  },
  {
   "cell_type": "code",
   "execution_count": 4,
   "metadata": {},
   "outputs": [],
   "source": [
    "#Pin Parameters\n",
    "pin = (r = 77.85 * 10^-3, b = 2000 * 10^-6, delta = 16 * 10^-6)\n",
    "\n",
    "#Zone Parameters\n",
    "zone = (l = 2000 * 10^-6, r_p = 100 * 10^-6)\n",
    "\n",
    "#Texture Parameters\n",
    "hole = (h_p = 10 * 10^-6, h_0 = 2 * 10^-6, dis = 2000 * 10^-6)\n",
    "sdeg = 2 #starved degree=hs/h0\n",
    "hole = (; hole..., h_s = sdeg * hole.h_0)\n",
    "\n",
    "#Operating Parameters\n",
    "pressure = (p_i = 0, p_o = 0, p_a = 1 * 10^5)\n",
    "U = 1; #Velocity ;m/s\n",
    "density = 840; # kg/m3 Density SAE 5W20 lubricant\n",
    "mu = 0.01; # Mu PaS\n",
    "\n",
    "#Mesh Parameters\n",
    "struct meshparam\n",
    "    m::Int64\n",
    "    t::Int64\n",
    "end\n",
    "CFL = 0.5\n",
    "ncircle = 3\n",
    "m = 256 #(mesh in X[parallel to U])\n",
    "t = ncircle * m / CFL #\n",
    "grid = meshparam(m, t)\n",
    "\n",
    "#Ohter Parameters\n",
    "delta = (x = zone.l / grid.m, t = (ncircle * zone.l / U) / grid.t)\n",
    "delta = (; delta..., X = delta.x / zone.l, T = delta.t / (zone.l / U))\n",
    "Lambda = 6 * mu * U * zone.l / (pressure.p_a * (hole.h_0^2)); # :Lambda\n"
   ]
  },
  {
   "cell_type": "markdown",
   "metadata": {},
   "source": [
    "## 液膜"
   ]
  },
  {
   "cell_type": "code",
   "execution_count": 22,
   "metadata": {},
   "outputs": [
    {
     "name": "stdout",
     "output_type": "stream",
     "text": [
      "  0.165117 seconds (187.98 k allocations: 58.209 MiB, 91.97% compilation time)\n"
     ]
    },
    {
     "data": {
      "text/plain": [
       "(C = [9.0 9.0 … 9.0 9.0; 8.87548828125 8.87548828125 … 8.87548828125 8.87548828125; … ; 8.87548828125 8.87548828125 … 8.87548828125 8.87548828125; 9.0 9.0 … 9.0 9.0], Up = [9.0 9.0 … 9.0 9.0; 8.87548828125 8.87548828125 … 8.87548828125 8.87548828125; … ; 8.87548828125 8.87548828125 … 8.87548828125 8.87548828125; 9.0 9.0 … 9.0 9.0], Down = [0.0 0.0 … 0.0 0.0; 0.0 0.0 … 0.0 0.0; … ; 0.0 0.0 … 0.0 0.0; 0.0 0.0 … 0.0 0.0], E = [8.937744140625 8.937744140625 … 8.937744140625 8.937744140625; 8.813720703125 8.813720703125 … 8.813720703125 8.813720703125; … ; 8.937744140625 8.937744140625 … 8.937744140625 8.937744140625; 8.937744140625 8.937744140625 … 8.937744140625 8.937744140625], W = [8.937744140625 8.937744140625 … 8.937744140625 8.937744140625; 8.937744140625 8.937744140625 … 8.937744140625 8.937744140625; … ; 8.813720703125 8.813720703125 … 8.813720703125 8.813720703125; 8.937744140625 8.937744140625 … 8.937744140625 8.937744140625])"
      ]
     },
     "execution_count": 22,
     "metadata": {},
     "output_type": "execute_result"
    }
   ],
   "source": [
    "function LocalGaps(hole, grid, delta, pin)\n",
    "    Up = zeros(grid.m + 1, grid.t + 1)\n",
    "    Down = zeros(grid.m + 1, grid.t + 1)\n",
    "    C = zeros(grid.m + 1, grid.t + 1)\n",
    "    W = zeros(grid.m + 1, grid.t + 1)\n",
    "    E = zeros(grid.m + 1, grid.t + 1)\n",
    "    gridm_half = (grid.m + 2) / 2\n",
    "    for k = 1:grid.t+1,i = 1:grid.m+1\n",
    "        Up[i, k] = (4 * pin.delta * (delta.x * (i - gridm_half))^2 / pin.b^2 + hole.h_0) / hole.h_0\n",
    "    end\n",
    "    C = abs.(Up) + abs.(Down)\n",
    "\n",
    "    iw = zeros(Int64, grid.m + 1)\n",
    "    ie = zeros(Int64, grid.m + 1)\n",
    "    Threads.@threads for i = 1:grid.m+1\n",
    "        iw[i] = i - 1\n",
    "        ie[i] = i + 1\n",
    "    end\n",
    "    iw[1] = iw[end]\n",
    "    ie[end] = ie[1]\n",
    "    Threads.@threads for i = 1:grid.m+1\n",
    "        W[i, :] = (C[i, :] + C[iw[i], :]) / 2\n",
    "        E[i, :] = (C[i, :] + C[ie[i], :]) / 2\n",
    "    end\n",
    "\n",
    "    LclGap = (C = C, Up = Up, Down = Down, E = E, W = W)\n",
    "    return LclGap\n",
    "end\n",
    "\n",
    " @time LclGap = LocalGaps(hole, grid, delta, pin)\n"
   ]
  },
  {
   "cell_type": "markdown",
   "metadata": {},
   "source": [
    "## Reynolds 参数"
   ]
  },
  {
   "cell_type": "code",
   "execution_count": null,
   "metadata": {},
   "outputs": [],
   "source": [
    "function ReynoldsParam(LclGap, grid, delta, Lambda)\n",
    "    A = zeros(grid.m + 1, grid.t + 1)\n",
    "    B = zeros(grid.m + 1, grid.t + 1)\n",
    "    E = zeros(grid.m + 1, grid.t + 1)\n",
    "    F = zeros(grid.m + 1, grid.t + 1)\n",
    "    G = zeros(grid.m + 1, grid.t + 1)\n",
    "    H = zeros(grid.m + 1, grid.t + 1)\n",
    "    for k = 2:grid.t+1\n",
    "        A[:, k] = (1 / delta.X) * LclGap.E[:, k] .^ 3\n",
    "        B[:, k] = (1 / delta.X) * LclGap.W[:, k] .^ 3\n",
    "        E[:, k] = A[:, k] + B[:, k]\n",
    "        F[:, k] = Lambda * LclGap.W[:, k]\n",
    "        G[:, k] = (-2 * Lambda * delta.X / delta.T * LclGap.C[:, k] - Lambda * LclGap.E[:, k])\n",
    "        H[:, k] = 2 * Lambda * delta.X / delta.T * LclGap.C[:, k-1]\n",
    "    end\n",
    "\n",
    "    Param = (A = A, B = B, E = E, F = F, G = G, H = H)\n",
    "    return Param\n",
    "end\n",
    "\n",
    "@time Param = ReynoldsParam(LclGap, grid, delta, Lambda)\n"
   ]
  },
  {
   "cell_type": "markdown",
   "metadata": {},
   "source": [
    "## 初始化状态"
   ]
  },
  {
   "cell_type": "code",
   "execution_count": null,
   "metadata": {},
   "outputs": [],
   "source": [
    "P = zeros(grid.m + 1, grid.t + 1)\n",
    "Theta = zeros(grid.m + 1, grid.t + 1)\n",
    "\n",
    "for i = 1:grid.m+1\n",
    "    if LclGap.Down[i, 1] >= 0\n",
    "        Theta[i, 1] = hole.h_s / (LclGap.C[i, 1] * hole.h_0)\n",
    "    else\n",
    "        Theta[i, 1] = (hole.h_s + abs(LclGap.Down[i, 1] * hole.h_0)) / (LclGap.C[i, 1] * hole.h_0)\n",
    "    end\n",
    "    if Theta[i, 1] > 1\n",
    "        Theta[i, 1] = 1\n",
    "    end\n",
    "end\n"
   ]
  },
  {
   "cell_type": "markdown",
   "metadata": {},
   "source": [
    "## 压力循环函数"
   ]
  },
  {
   "cell_type": "code",
   "execution_count": null,
   "metadata": {},
   "outputs": [],
   "source": [
    "function LoopsPT(k, grid, P, Theta, Param, error)\n",
    "    Omegap = 1\n",
    "    Omegaf = 1\n",
    "    P_0 = P[:, k]\n",
    "    Theta_0 = Theta[:, k]\n",
    "\n",
    "    i = 1  # inlet\n",
    "    P[i, k] = 0\n",
    "    Theta[i, k] = (\n",
    "        -Param.A[i, k] * P_0[i+1] -\n",
    "        Param.B[i, k] * P[grid.m+1-1, k] +\n",
    "        Param.E[i, k] * P[i, k] -\n",
    "        Param.F[i, k] * Theta[grid.m+1-1, k] -\n",
    "        Param.H[i, k] * Theta[i, k-1]\n",
    "    ) / Param.G[i, k]\n",
    "    Theta[grid.m+1, k] = Theta[i, k]  # Periodical Condition\n",
    "\n",
    "    for i = 2:grid.m\n",
    "        if P_0[i] > 0 || Theta_0[i] == 1\n",
    "            P[i, k] = (\n",
    "                Param.A[i, k] * P_0[i+1] +\n",
    "                Param.B[i, k] * P[i-1, k] +\n",
    "                Param.G[i, k] * Theta_0[i] +\n",
    "                Param.F[i, k] * Theta[i-1, k] +\n",
    "                Param.H[i, k] * Theta[i, k-1]\n",
    "            ) / Param.E[i, k]\n",
    "            P[i, k] = Omegap * P[i, k] + (1 - Omegap) * P_0[i]\n",
    "            if P[i, k] > 0\n",
    "                Theta[i, k] = 1\n",
    "            else\n",
    "                P[i, k] = 0\n",
    "            end\n",
    "        end\n",
    "        if P[i, k] <= 0 || Theta[i, k] < 1\n",
    "            Theta[i, k] = (\n",
    "                -Param.A[i, k] * P_0[i+1] -\n",
    "                Param.B[i, k] * P[i-1, k] +\n",
    "                Param.E[i, k] * P[i, k] -\n",
    "                Param.F[i, k] * Theta[i-1, k] -\n",
    "                Param.H[i, k] * Theta[i, k-1]\n",
    "            ) / Param.G[i, k]\n",
    "            Theta[i, k] = Omegaf * Theta[i, k] + (1 - Omegaf) * Theta_0[i]\n",
    "            if Theta[i, k] < 1\n",
    "                P[i, k] = 0\n",
    "            else\n",
    "                Theta[i, k] = 1\n",
    "            end\n",
    "        end\n",
    "    end\n",
    "    i = grid.m + 1\n",
    "    Theta[i, k] = (\n",
    "        -Param.A[i, k] * P_0[1+1] -\n",
    "        Param.B[i, k] * P[i-1, k] +\n",
    "        Param.E[i, k] * P[i, k] -\n",
    "        Param.F[i, k] * Theta[i-1, k] -\n",
    "        Param.H[i, k] * Theta[i, k-1]\n",
    "    ) / Param.G[i, k]\n",
    "    Theta[1, k] = Theta[i, k]  # Periodical Condition\n",
    "\n",
    "    # Error Criteria\n",
    "    GAPp = sum(abs.(P[:, k] - P_0[:])) / sum(abs.(P[:, k]))\n",
    "    GAPfi = sum(abs.(Theta[:, k] - Theta_0[:])) / sum(abs.(Theta[:, k]))\n",
    "\n",
    "    if GAPp < error\n",
    "        GAP1 = 1\n",
    "    else\n",
    "        GAP1 = 0\n",
    "    end\n",
    "    if GAPfi < error\n",
    "        GAP2 = 1\n",
    "    else\n",
    "        GAP2 = 0\n",
    "    end\n",
    "\n",
    "    return P, Theta, GAP1, GAP2\n",
    "\n",
    "end\n"
   ]
  },
  {
   "cell_type": "markdown",
   "metadata": {},
   "source": [
    "## Reynold求解"
   ]
  },
  {
   "cell_type": "code",
   "execution_count": null,
   "metadata": {},
   "outputs": [],
   "source": [
    "function CalcReynolds(grid, P, Theta, Param)\n",
    "\n",
    "    nCycle = zeros(grid.t + 1)\n",
    "    error = 1e-4\n",
    "\n",
    "    for k = 2:grid.t+1\n",
    "        GAP1 = 0\n",
    "        GAP2 = 0\n",
    "        P[:, k] = P[:, k-1]\n",
    "        Theta[:, k] = Theta[:, k-1]\n",
    "        while GAP1 * GAP2 == 0\n",
    "            nCycle[k] = nCycle[k] + 1\n",
    "            P, Theta, GAP1, GAP2 = LoopsPT(k, grid, P, Theta, Param, error)\n",
    "        end\n",
    "    end\n",
    "\n",
    "    return P, Theta, nCycle\n",
    "end\n"
   ]
  },
  {
   "cell_type": "code",
   "execution_count": null,
   "metadata": {},
   "outputs": [],
   "source": [
    "P, Theta, nCycle = CalcReynolds(grid, P, Theta, Param)"
   ]
  }
 ],
 "metadata": {
  "kernelspec": {
   "display_name": "Julia 1.7.2",
   "language": "julia",
   "name": "julia-1.7"
  },
  "language_info": {
   "file_extension": ".jl",
   "mimetype": "application/julia",
   "name": "julia",
   "version": "1.7.2"
  }
 },
 "nbformat": 4,
 "nbformat_minor": 2
}
